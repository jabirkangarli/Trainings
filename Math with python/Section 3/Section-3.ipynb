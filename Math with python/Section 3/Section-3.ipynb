{
 "cells": [
  {
   "cell_type": "markdown",
   "id": "7b15836e",
   "metadata": {},
   "source": [
    "# Intro to Sympy and LaTeX"
   ]
  },
  {
   "cell_type": "code",
   "execution_count": 20,
   "id": "2394fb7f",
   "metadata": {},
   "outputs": [],
   "source": [
    "import sympy as sym\n",
    "import numpy as np\n",
    "from IPython.display import display, Math"
   ]
  },
  {
   "cell_type": "code",
   "execution_count": 21,
   "id": "89eed1be",
   "metadata": {},
   "outputs": [
    {
     "data": {
      "text/latex": [
       "$\\displaystyle x$"
      ],
      "text/plain": [
       "x"
      ]
     },
     "execution_count": 21,
     "metadata": {},
     "output_type": "execute_result"
    }
   ],
   "source": [
    "x, y = sym.symbols('x, y')\n",
    "x"
   ]
  },
  {
   "cell_type": "code",
   "execution_count": 22,
   "id": "e2d077ce",
   "metadata": {},
   "outputs": [
    {
     "data": {
      "text/latex": [
       "$\\displaystyle \\frac{x}{y}$"
      ],
      "text/plain": [
       "x/y"
      ]
     },
     "metadata": {},
     "output_type": "display_data"
    }
   ],
   "source": [
    "display(x/y)"
   ]
  },
  {
   "cell_type": "code",
   "execution_count": 24,
   "id": "b75e7848",
   "metadata": {},
   "outputs": [
    {
     "data": {
      "text/latex": [
       "$\\displaystyle \\log{\\left(1024 \\right)}$"
      ],
      "text/plain": [
       "log(1024)"
      ]
     },
     "metadata": {},
     "output_type": "display_data"
    }
   ],
   "source": [
    "display(sym.log(2**10))"
   ]
  },
  {
   "cell_type": "markdown",
   "id": "341f3c3e",
   "metadata": {},
   "source": [
    "### f- strings"
   ]
  },
  {
   "cell_type": "code",
   "execution_count": 26,
   "id": "d6975ac4",
   "metadata": {},
   "outputs": [
    {
     "name": "stdout",
     "output_type": "stream",
     "text": [
      "Hi my name is Mike and I eat 7 chocolates every day\n"
     ]
    }
   ],
   "source": [
    "svar = 'Mike'\n",
    "nvar = 7\n",
    "print(f\"Hi my name is {svar} and I eat {nvar} chocolates every day\")"
   ]
  },
  {
   "cell_type": "code",
   "execution_count": 29,
   "id": "39b1946d",
   "metadata": {},
   "outputs": [
    {
     "data": {
      "text/latex": [
       "$\\displaystyle \\frac{x}{y}$"
      ],
      "text/plain": [
       "<IPython.core.display.Math object>"
      ]
     },
     "metadata": {},
     "output_type": "display_data"
    },
    {
     "data": {
      "text/latex": [
       "$\\displaystyle \\frac{{x}}{{y}}$"
      ],
      "text/plain": [
       "<IPython.core.display.Math object>"
      ]
     },
     "metadata": {},
     "output_type": "display_data"
    }
   ],
   "source": [
    "display(Math('\\\\frac{x}{y}'))\n",
    "\n",
    "# OR\n",
    "display(Math('\\\\frac{{x}}{{y}}')) # 1 curly bracket for X, Y and 1 for LaTeX"
   ]
  },
  {
   "cell_type": "code",
   "execution_count": null,
   "id": "6e83e615",
   "metadata": {},
   "outputs": [],
   "source": []
  },
  {
   "cell_type": "code",
   "execution_count": null,
   "id": "b49d30ab",
   "metadata": {},
   "outputs": [],
   "source": []
  },
  {
   "cell_type": "code",
   "execution_count": null,
   "id": "7f771a84",
   "metadata": {},
   "outputs": [],
   "source": []
  },
  {
   "cell_type": "code",
   "execution_count": null,
   "id": "8878300b",
   "metadata": {},
   "outputs": [],
   "source": []
  },
  {
   "cell_type": "code",
   "execution_count": null,
   "id": "edaa7181",
   "metadata": {},
   "outputs": [],
   "source": []
  }
 ],
 "metadata": {
  "kernelspec": {
   "display_name": "Python 3",
   "language": "python",
   "name": "python3"
  },
  "language_info": {
   "codemirror_mode": {
    "name": "ipython",
    "version": 3
   },
   "file_extension": ".py",
   "mimetype": "text/x-python",
   "name": "python",
   "nbconvert_exporter": "python",
   "pygments_lexer": "ipython3",
   "version": "3.8.8"
  }
 },
 "nbformat": 4,
 "nbformat_minor": 5
}
