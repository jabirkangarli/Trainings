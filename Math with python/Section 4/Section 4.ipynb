{
 "cells": [
  {
   "cell_type": "markdown",
   "id": "aa8ec57f",
   "metadata": {},
   "source": [
    "# Python data types"
   ]
  },
  {
   "cell_type": "code",
   "execution_count": 1,
   "id": "8b3cfd3e",
   "metadata": {},
   "outputs": [
    {
     "name": "stdout",
     "output_type": "stream",
     "text": [
      "7 7.0\n"
     ]
    }
   ],
   "source": [
    "a = 7\n",
    "b = 7.0\n",
    "\n",
    "print(a,b)"
   ]
  },
  {
   "cell_type": "code",
   "execution_count": 3,
   "id": "51e755f8",
   "metadata": {},
   "outputs": [
    {
     "name": "stdout",
     "output_type": "stream",
     "text": [
      "<class 'int'>\n",
      "<class 'float'>\n"
     ]
    }
   ],
   "source": [
    "print(type(a))\n",
    "print(type(b))"
   ]
  },
  {
   "cell_type": "code",
   "execution_count": 9,
   "id": "cd6e31aa",
   "metadata": {},
   "outputs": [
    {
     "name": "stdout",
     "output_type": "stream",
     "text": [
      "0\n",
      "1\n",
      "2\n",
      "3\n",
      "4\n",
      "5\n",
      "6\n"
     ]
    }
   ],
   "source": [
    "for i in range(0,a):\n",
    "    print(i)"
   ]
  },
  {
   "cell_type": "code",
   "execution_count": 10,
   "id": "8bce82ba",
   "metadata": {},
   "outputs": [
    {
     "data": {
      "text/plain": [
       "14.0"
      ]
     },
     "execution_count": 10,
     "metadata": {},
     "output_type": "execute_result"
    }
   ],
   "source": [
    "a+b"
   ]
  },
  {
   "cell_type": "code",
   "execution_count": 12,
   "id": "868972d4",
   "metadata": {},
   "outputs": [
    {
     "data": {
      "text/plain": [
       "'Jabir Kangarli'"
      ]
     },
     "execution_count": 12,
     "metadata": {},
     "output_type": "execute_result"
    }
   ],
   "source": [
    "firstname = 'Jabir'\n",
    "lastname = 'Kangarli'\n",
    "\n",
    "firstname + ' ' + lastname"
   ]
  },
  {
   "cell_type": "code",
   "execution_count": 13,
   "id": "e05737b7",
   "metadata": {},
   "outputs": [
    {
     "data": {
      "text/plain": [
       "'JabirJabirJabir'"
      ]
     },
     "execution_count": 13,
     "metadata": {},
     "output_type": "execute_result"
    }
   ],
   "source": [
    "firstname * 3"
   ]
  },
  {
   "cell_type": "code",
   "execution_count": 14,
   "id": "e06f1673",
   "metadata": {},
   "outputs": [
    {
     "name": "stdout",
     "output_type": "stream",
     "text": [
      "Variable    Type     Data/Info\n",
      "------------------------------\n",
      "a           int      7\n",
      "b           float    7.0\n",
      "firstname   str      Jabir\n",
      "i           int      6\n",
      "lastname    str      Kangarli\n"
     ]
    }
   ],
   "source": [
    "%whos"
   ]
  },
  {
   "cell_type": "code",
   "execution_count": 18,
   "id": "b117f42b",
   "metadata": {},
   "outputs": [
    {
     "name": "stdout",
     "output_type": "stream",
     "text": [
      "<class 'str'>\n",
      "<class 'str'>\n",
      "<class 'int'>\n",
      "<class 'float'>\n",
      "4\n",
      "4\n",
      "4.0\n",
      "4.7\n",
      "5\n",
      "5.8\n"
     ]
    }
   ],
   "source": [
    "# Exercise\n",
    "\n",
    "# convert across data types\n",
    "s1 = '4'\n",
    "s2 = '4.7'\n",
    "n1 = 5\n",
    "n2 = 5.8\n",
    "print(type(s1))\n",
    "print(type(s2))\n",
    "print(type(n1))\n",
    "print(type(n2))\n",
    "# convert strings to integers\n",
    "print(int(s1))\n",
    "print(int(float(s2)))\n",
    "#convert strings to floats\n",
    "print(float(s1))\n",
    "print(float(s2))\n",
    "# convert the numbers into strings\n",
    "print(str(n1))\n",
    "print(str(n2))"
   ]
  },
  {
   "cell_type": "markdown",
   "id": "14c85b8f",
   "metadata": {},
   "source": [
    "### List and numpy arrays"
   ]
  },
  {
   "cell_type": "code",
   "execution_count": 1,
   "id": "97e3fd75",
   "metadata": {},
   "outputs": [],
   "source": [
    "import numpy as np"
   ]
  },
  {
   "cell_type": "code",
   "execution_count": 2,
   "id": "39871003",
   "metadata": {},
   "outputs": [
    {
     "data": {
      "text/plain": [
       "list"
      ]
     },
     "execution_count": 2,
     "metadata": {},
     "output_type": "execute_result"
    }
   ],
   "source": [
    "aList = [0,1,2,3,4,5]\n",
    "type(aList)"
   ]
  },
  {
   "cell_type": "code",
   "execution_count": 3,
   "id": "f7cc8ac5",
   "metadata": {},
   "outputs": [
    {
     "data": {
      "text/plain": [
       "[3, ['3', '4', '5'], 5.5, [4, 5, 6]]"
      ]
     },
     "execution_count": 3,
     "metadata": {},
     "output_type": "execute_result"
    }
   ],
   "source": [
    "listlist = [3, ['3','4','5'], 5.5,[4,5,6]]\n",
    "listlist"
   ]
  },
  {
   "cell_type": "markdown",
   "id": "680fc87a",
   "metadata": {},
   "source": [
    "Better to do it this way as below since we can comment"
   ]
  },
  {
   "cell_type": "code",
   "execution_count": 5,
   "id": "9cc99995",
   "metadata": {},
   "outputs": [
    {
     "data": {
      "text/plain": [
       "[3, ['3', '4', '5'], 5.5, [4, 5, 6]]"
      ]
     },
     "execution_count": 5,
     "metadata": {},
     "output_type": "execute_result"
    }
   ],
   "source": [
    "listlist = [\n",
    "    3,              # a number\n",
    "    ['3','4','5'],  # a list of strings\n",
    "    5.5,            # another float number\n",
    "    [4,5,6]\n",
    "    ]\n",
    "listlist"
   ]
  },
  {
   "cell_type": "code",
   "execution_count": 8,
   "id": "4b16b980",
   "metadata": {},
   "outputs": [
    {
     "data": {
      "text/plain": [
       "[0, 1, 2, 3, 4, 5, '0', '1', '2', '3', '4', '5']"
      ]
     },
     "execution_count": 8,
     "metadata": {},
     "output_type": "execute_result"
    }
   ],
   "source": [
    "aList = [0,1,2,3,4,5]\n",
    "sList = ['0','1','2','3','4','5']\n",
    "\n",
    "# concatenates aList and sList\n",
    "aList + sList"
   ]
  },
  {
   "cell_type": "code",
   "execution_count": 12,
   "id": "ed9d4f41",
   "metadata": {
    "scrolled": true
   },
   "outputs": [
    {
     "data": {
      "text/plain": [
       "[0, 1, 2, 3, 4, 5, 0, 1, 2, 3, 4, 5, 0, 1, 2, 3, 4, 5]"
      ]
     },
     "execution_count": 12,
     "metadata": {},
     "output_type": "execute_result"
    }
   ],
   "source": [
    "# copies the list 3 times\n",
    "aList * 3"
   ]
  },
  {
   "cell_type": "code",
   "execution_count": 16,
   "id": "4733b60e",
   "metadata": {},
   "outputs": [
    {
     "name": "stdout",
     "output_type": "stream",
     "text": [
      "<class 'numpy.ndarray'>\n",
      "<class 'list'>\n",
      "[0, 1, 2, 3, 4, 5]\n",
      "[0 1 2 3 4 5]\n"
     ]
    }
   ],
   "source": [
    "# converting a list into numpy array\n",
    "alist_np = np.array(aList)\n",
    "print(type(alist_np))\n",
    "print(type(aList))\n",
    "print(aList)\n",
    "print(alist_np)"
   ]
  },
  {
   "cell_type": "code",
   "execution_count": 17,
   "id": "fd7ea7fc",
   "metadata": {},
   "outputs": [
    {
     "data": {
      "text/plain": [
       "[0, 1, 2, 3, 4, 5, 0, 1, 2, 3, 4, 5, 0, 1, 2, 3, 4, 5]"
      ]
     },
     "execution_count": 17,
     "metadata": {},
     "output_type": "execute_result"
    }
   ],
   "source": [
    "# if you multiply list to 3, it copies the list 3 times\n",
    "aList * 3"
   ]
  },
  {
   "cell_type": "code",
   "execution_count": 18,
   "id": "dd80b380",
   "metadata": {},
   "outputs": [
    {
     "data": {
      "text/plain": [
       "array([ 0,  3,  6,  9, 12, 15])"
      ]
     },
     "execution_count": 18,
     "metadata": {},
     "output_type": "execute_result"
    }
   ],
   "source": [
    "# if you multiply numpy array to 3, it multiplies \n",
    "alist_np * 3"
   ]
  },
  {
   "cell_type": "code",
   "execution_count": 21,
   "id": "4bb8bfe5",
   "metadata": {},
   "outputs": [
    {
     "ename": "TypeError",
     "evalue": "can only concatenate list (not \"int\") to list",
     "output_type": "error",
     "traceback": [
      "\u001b[1;31m---------------------------------------------------------------------------\u001b[0m",
      "\u001b[1;31mTypeError\u001b[0m                                 Traceback (most recent call last)",
      "\u001b[1;32m<ipython-input-21-46d2f74bc6a0>\u001b[0m in \u001b[0;36m<module>\u001b[1;34m\u001b[0m\n\u001b[0;32m      1\u001b[0m \u001b[1;31m# let's try aList +3\u001b[0m\u001b[1;33m\u001b[0m\u001b[1;33m\u001b[0m\u001b[1;33m\u001b[0m\u001b[0m\n\u001b[0;32m      2\u001b[0m \u001b[1;31m# we cannot concat data type int to data type list\u001b[0m\u001b[1;33m\u001b[0m\u001b[1;33m\u001b[0m\u001b[1;33m\u001b[0m\u001b[0m\n\u001b[1;32m----> 3\u001b[1;33m \u001b[0maList\u001b[0m \u001b[1;33m+\u001b[0m \u001b[1;36m3\u001b[0m\u001b[1;33m\u001b[0m\u001b[1;33m\u001b[0m\u001b[0m\n\u001b[0m\u001b[0;32m      4\u001b[0m \u001b[1;33m\u001b[0m\u001b[0m\n\u001b[0;32m      5\u001b[0m \u001b[1;31m# to add integer to list, we have to do as below - add integer to list and then add to the existing list\u001b[0m\u001b[1;33m\u001b[0m\u001b[1;33m\u001b[0m\u001b[1;33m\u001b[0m\u001b[0m\n",
      "\u001b[1;31mTypeError\u001b[0m: can only concatenate list (not \"int\") to list"
     ]
    }
   ],
   "source": [
    "# let's try aList +3 \n",
    "# we cannot concat data type int to data type list\n",
    "aList + 3"
   ]
  },
  {
   "cell_type": "code",
   "execution_count": 22,
   "id": "fd665321",
   "metadata": {},
   "outputs": [
    {
     "data": {
      "text/plain": [
       "[0, 1, 2, 3, 4, 5, 3]"
      ]
     },
     "execution_count": 22,
     "metadata": {},
     "output_type": "execute_result"
    }
   ],
   "source": [
    "# to add integer to list, we have to do as below - add integer to list and then add to the existing list\n",
    "aList + [3]"
   ]
  },
  {
   "cell_type": "code",
   "execution_count": 47,
   "id": "2ecc9f82",
   "metadata": {},
   "outputs": [],
   "source": [
    "listlist = [3, ['3','4','5'], 5.5,[4,5,6]]"
   ]
  },
  {
   "cell_type": "code",
   "execution_count": 74,
   "id": "bcab645b",
   "metadata": {},
   "outputs": [
    {
     "name": "stdout",
     "output_type": "stream",
     "text": [
      "List element 0 is 3 and is of type <class 'int'>\n",
      "List element 1 is ['3', '4', '5'] and is of type <class 'list'>\n",
      "List element 2 is 5.5 and is of type <class 'float'>\n",
      "List element 3 is [4, 5, 6] and is of type <class 'list'>\n"
     ]
    }
   ],
   "source": [
    "n = 0 \n",
    "for i in listlist:\n",
    "    listtype = type(i)\n",
    "    print(f\"List element {n} is {i} and is of type {listtype}\")\n",
    "    n = n + 1"
   ]
  },
  {
   "cell_type": "code",
   "execution_count": 81,
   "id": "b8152749",
   "metadata": {},
   "outputs": [
    {
     "name": "stdout",
     "output_type": "stream",
     "text": [
      "List element 0 is 3 and is of type <class 'int'>\n",
      "List element 1 is ['3', '4', '5'] and is of type <class 'int'>\n",
      "List element 2 is 5.5 and is of type <class 'int'>\n",
      "List element 3 is [4, 5, 6] and is of type <class 'int'>\n"
     ]
    }
   ],
   "source": [
    "# OR\n",
    "for item in range(len(listlist)):\n",
    "    print(f\"List element {item} is {listlist[item]} and is of type {type(item)}\")"
   ]
  },
  {
   "cell_type": "markdown",
   "id": "d9087b75",
   "metadata": {},
   "source": [
    "### Enumarate function"
   ]
  },
  {
   "cell_type": "code",
   "execution_count": 85,
   "id": "c468dcd1",
   "metadata": {},
   "outputs": [
    {
     "name": "stdout",
     "output_type": "stream",
     "text": [
      "0 J\n",
      "1 a\n",
      "2 b\n",
      "3 i\n",
      "4 r\n"
     ]
    }
   ],
   "source": [
    "s = 'Jabir'\n",
    "for index, letter in enumerate(s):\n",
    "    print(index, letter)"
   ]
  },
  {
   "cell_type": "code",
   "execution_count": 92,
   "id": "9b07f72b",
   "metadata": {},
   "outputs": [
    {
     "name": "stdout",
     "output_type": "stream",
     "text": [
      "List element 0 is 3 and is of type int.\n",
      "List element 1 is ['3', '4', '5'] and is of type list.\n",
      "List element 2 is 5.5 and is of type float.\n",
      "List element 3 is [4, 5, 6] and is of type list.\n"
     ]
    }
   ],
   "source": [
    "s = 'Jabir'\n",
    "for idx, item in enumerate(listlist):\n",
    "    \n",
    "    #turn list type into string to be able to print respective type \n",
    "    #and slice from index 8 until the end to remove class ' from the beginning in the output\n",
    "    # check the next chunk of code to remove apastrophe \" '> \" to remove after type\n",
    "    \n",
    "    t = str(type(item))[8:]\n",
    "    \n",
    "    # Find the ' in the index\n",
    "    apost = t.find(\"'\")\n",
    "    \n",
    "    # by using {t[:apost]}, I am telling to python that I want to get t until ' is find in the list index \n",
    "    # i.e int'> - it takes only int and removes '> part\n",
    "    print(f\"List element {idx} is {item} and is of type {t[:apost]}.\") "
   ]
  },
  {
   "cell_type": "code",
   "execution_count": 89,
   "id": "ab39d2a4",
   "metadata": {},
   "outputs": [
    {
     "data": {
      "text/plain": [
       "4"
      ]
     },
     "execution_count": 89,
     "metadata": {},
     "output_type": "execute_result"
    }
   ],
   "source": [
    "t[8:]\n",
    "apost = t.find(\"'\")\n",
    "apost"
   ]
  },
  {
   "cell_type": "code",
   "execution_count": 67,
   "id": "fe77437a",
   "metadata": {},
   "outputs": [
    {
     "ename": "SyntaxError",
     "evalue": "invalid syntax (<ipython-input-67-59ccdea4f970>, line 2)",
     "output_type": "error",
     "traceback": [
      "\u001b[1;36m  File \u001b[1;32m\"<ipython-input-67-59ccdea4f970>\"\u001b[1;36m, line \u001b[1;32m2\u001b[0m\n\u001b[1;33m    if type(i) == 'int'\u001b[0m\n\u001b[1;37m                       ^\u001b[0m\n\u001b[1;31mSyntaxError\u001b[0m\u001b[1;31m:\u001b[0m invalid syntax\n"
     ]
    }
   ],
   "source": [
    "for i in listlist:\n",
    "    if type(i) == 'int'\n",
    "    print(\"integer\")"
   ]
  },
  {
   "cell_type": "code",
   "execution_count": null,
   "id": "d300371b",
   "metadata": {},
   "outputs": [],
   "source": []
  }
 ],
 "metadata": {
  "kernelspec": {
   "display_name": "Python 3",
   "language": "python",
   "name": "python3"
  },
  "language_info": {
   "codemirror_mode": {
    "name": "ipython",
    "version": 3
   },
   "file_extension": ".py",
   "mimetype": "text/x-python",
   "name": "python",
   "nbconvert_exporter": "python",
   "pygments_lexer": "ipython3",
   "version": "3.8.8"
  }
 },
 "nbformat": 4,
 "nbformat_minor": 5
}
