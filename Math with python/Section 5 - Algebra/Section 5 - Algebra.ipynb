{
 "cells": [
  {
   "cell_type": "code",
   "execution_count": 42,
   "id": "af7ff856",
   "metadata": {},
   "outputs": [],
   "source": [
    "import sympy as sym\n",
    "from IPython.display import display, Math\n",
    "import math"
   ]
  },
  {
   "cell_type": "code",
   "execution_count": 31,
   "id": "f815e1e0",
   "metadata": {},
   "outputs": [
    {
     "data": {
      "text/plain": [
       "[5/2]"
      ]
     },
     "execution_count": 31,
     "metadata": {},
     "output_type": "execute_result"
    }
   ],
   "source": [
    "x = sym.symbols('x')\n",
    "\n",
    "expr = 2*x + 4 - 9\n",
    "\n",
    "sym.solve(expr)"
   ]
  },
  {
   "cell_type": "code",
   "execution_count": 32,
   "id": "3905b940",
   "metadata": {},
   "outputs": [
    {
     "name": "stdout",
     "output_type": "stream",
     "text": [
      "The solution for 2*x - 5 is [5/2]\n"
     ]
    }
   ],
   "source": [
    "print(f\"The solution for {expr} is {sym.solve(expr)}\")"
   ]
  },
  {
   "cell_type": "code",
   "execution_count": 33,
   "id": "553da903",
   "metadata": {},
   "outputs": [
    {
     "name": "stdout",
     "output_type": "stream",
     "text": [
      "Solution #1 is -2\n",
      "Solution #2 is 2\n"
     ]
    }
   ],
   "source": [
    "expr = x**2 - 4\n",
    "sol = sym.solve(expr)\n",
    "\n",
    "for i in range(0,len(sol)):\n",
    "    print('Solution #' + str(i+1) + ' is ' + str(sol[i]))"
   ]
  },
  {
   "cell_type": "code",
   "execution_count": 34,
   "id": "9181f452",
   "metadata": {},
   "outputs": [
    {
     "data": {
      "text/plain": [
       "[20/(4*y - 1)]"
      ]
     },
     "execution_count": 34,
     "metadata": {},
     "output_type": "execute_result"
    }
   ],
   "source": [
    "y = sym.symbols('y')\n",
    "\n",
    "expr = x/4 - x*y + 5\n",
    "\n",
    "sym.solve(expr,x)"
   ]
  },
  {
   "cell_type": "code",
   "execution_count": 37,
   "id": "5eb15da4",
   "metadata": {},
   "outputs": [
    {
     "data": {
      "text/plain": [
       "[1/2 - sqrt(7)/2, 1/2 + sqrt(7)/2]"
      ]
     },
     "execution_count": 37,
     "metadata": {},
     "output_type": "execute_result"
    }
   ],
   "source": [
    "q = sym.symbols('q')\n",
    "\n",
    "expr = 3*q + 4/q + 3 - 5*q - 1/q - 1\n",
    "\n",
    "sym.solve(expr, q)"
   ]
  },
  {
   "cell_type": "code",
   "execution_count": 39,
   "id": "4ff3926d",
   "metadata": {},
   "outputs": [
    {
     "data": {
      "text/plain": [
       "[CRootOf(3*x**5 + 2*x**4 - 5*x**2 - 4, 0),\n",
       " CRootOf(3*x**5 + 2*x**4 - 5*x**2 - 4, 1),\n",
       " CRootOf(3*x**5 + 2*x**4 - 5*x**2 - 4, 2),\n",
       " CRootOf(3*x**5 + 2*x**4 - 5*x**2 - 4, 3),\n",
       " CRootOf(3*x**5 + 2*x**4 - 5*x**2 - 4, 4)]"
      ]
     },
     "execution_count": 39,
     "metadata": {},
     "output_type": "execute_result"
    }
   ],
   "source": [
    "q = sym.symbols('q')\n",
    "\n",
    "expr = 2*q + 3 * q**2 - 5/q - 4 / q**3\n",
    "\n",
    "sym.solve(expr, q)\n",
    "\n"
   ]
  },
  {
   "cell_type": "code",
   "execution_count": 45,
   "id": "447ddad8",
   "metadata": {},
   "outputs": [],
   "source": [
    "from sympy import *\n",
    "from math import *"
   ]
  },
  {
   "cell_type": "code",
   "execution_count": 40,
   "id": "10f8d1e8",
   "metadata": {},
   "outputs": [
    {
     "data": {
      "text/latex": [
       "$\\displaystyle \\frac{3 q^{5} + 2 q^{4} - 5 q^{2} - 4}{q^{3}}$"
      ],
      "text/plain": [
       "(3*q**5 + 2*q**4 - 5*q**2 - 4)/q**3"
      ]
     },
     "execution_count": 40,
     "metadata": {},
     "output_type": "execute_result"
    }
   ],
   "source": [
    "sym.cancel(expr, q)"
   ]
  },
  {
   "cell_type": "code",
   "execution_count": 49,
   "id": "cbe0ebfb",
   "metadata": {},
   "outputs": [
    {
     "data": {
      "text/plain": [
       "[]"
      ]
     },
     "execution_count": 49,
     "metadata": {},
     "output_type": "execute_result"
    }
   ],
   "source": [
    "q = sym.symbols('q')\n",
    "expr = (sym.sqrt(3) + sym.sqrt(15)*q) / (sym.sqrt(2) + sym.sqrt(10)*q)\n",
    "\n",
    "sym.solve(expr, q)"
   ]
  },
  {
   "cell_type": "code",
   "execution_count": null,
   "id": "ef631e41",
   "metadata": {},
   "outputs": [],
   "source": []
  },
  {
   "cell_type": "code",
   "execution_count": null,
   "id": "8432d758",
   "metadata": {},
   "outputs": [],
   "source": []
  },
  {
   "cell_type": "code",
   "execution_count": null,
   "id": "c60a0cac",
   "metadata": {},
   "outputs": [],
   "source": []
  },
  {
   "cell_type": "code",
   "execution_count": null,
   "id": "efe470fd",
   "metadata": {},
   "outputs": [],
   "source": []
  },
  {
   "cell_type": "code",
   "execution_count": null,
   "id": "ad09d55b",
   "metadata": {},
   "outputs": [],
   "source": []
  },
  {
   "cell_type": "code",
   "execution_count": null,
   "id": "d0e79fad",
   "metadata": {},
   "outputs": [],
   "source": []
  }
 ],
 "metadata": {
  "kernelspec": {
   "display_name": "Python 3",
   "language": "python",
   "name": "python3"
  },
  "language_info": {
   "codemirror_mode": {
    "name": "ipython",
    "version": 3
   },
   "file_extension": ".py",
   "mimetype": "text/x-python",
   "name": "python",
   "nbconvert_exporter": "python",
   "pygments_lexer": "ipython3",
   "version": "3.8.8"
  }
 },
 "nbformat": 4,
 "nbformat_minor": 5
}
