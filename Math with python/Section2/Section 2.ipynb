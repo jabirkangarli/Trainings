{
 "cells": [
  {
   "cell_type": "markdown",
   "id": "54f17c0e",
   "metadata": {},
   "source": [
    "## Print out equations"
   ]
  },
  {
   "cell_type": "code",
   "execution_count": 1,
   "id": "b5c8f4fe",
   "metadata": {},
   "outputs": [
    {
     "name": "stdout",
     "output_type": "stream",
     "text": [
      "4.7\n",
      "-0.030303030303030304\n"
     ]
    }
   ],
   "source": [
    "\n",
    "# Addition, subtraction, multiplication, division exercises\n",
    "\n",
    "print(5-(2 / 4)*(3 / 5))\n",
    "\n",
    "print((4 - 5) / (3 + (5 * 6)))"
   ]
  },
  {
   "cell_type": "code",
   "execution_count": 2,
   "id": "12f002e9",
   "metadata": {},
   "outputs": [
    {
     "name": "stdout",
     "output_type": "stream",
     "text": [
      "42\n",
      "0.0\n"
     ]
    }
   ],
   "source": [
    "# using variables in place of numbers\n",
    "x = 7\n",
    "y = -2\n",
    "z = 5\n",
    "\n",
    "print((3*x) * (4+y))\n",
    "print(-y - ((x+3)/z))\n"
   ]
  },
  {
   "cell_type": "code",
   "execution_count": 16,
   "id": "082197a4",
   "metadata": {},
   "outputs": [
    {
     "data": {
      "text/plain": [
       "'4 + 3 = 7'"
      ]
     },
     "metadata": {},
     "output_type": "display_data"
    },
    {
     "data": {
      "text/plain": [
       "'4 + 3 = 7'"
      ]
     },
     "metadata": {},
     "output_type": "display_data"
    },
    {
     "data": {
      "text/plain": [
       "'4 + 3 ='"
      ]
     },
     "metadata": {},
     "output_type": "display_data"
    },
    {
     "data": {
      "text/plain": [
       "'7'"
      ]
     },
     "metadata": {},
     "output_type": "display_data"
    },
    {
     "data": {
      "text/latex": [
       "$\\displaystyle 4+3=7$"
      ],
      "text/plain": [
       "<IPython.core.display.Math object>"
      ]
     },
     "metadata": {},
     "output_type": "display_data"
    },
    {
     "data": {
      "text/latex": [
       "$\\displaystyle 4+5=9$"
      ],
      "text/plain": [
       "<IPython.core.display.Math object>"
      ]
     },
     "metadata": {},
     "output_type": "display_data"
    }
   ],
   "source": [
    "# Printing out equations in notebook\n",
    "from IPython.display import display, Math\n",
    "display('4 + 3 = 7')\n",
    "display('4 + 3 = ' + str(4 + 3)) or display('4 + 3 =', str(4 + 3))\n",
    "\n",
    "display(Math('4+3=7'))\n",
    "\n",
    "x = 4\n",
    "y = 5\n",
    "\n",
    "#strings should be used inside of display function\n",
    "display(Math(str(x) + '+' + str(y) + '=' + str(x+y)))"
   ]
  },
  {
   "cell_type": "code",
   "execution_count": 17,
   "id": "be5d0e5d",
   "metadata": {},
   "outputs": [
    {
     "data": {
      "text/latex": [
       "$\\displaystyle 4+5 = 9$"
      ],
      "text/plain": [
       "<IPython.core.display.Math object>"
      ]
     },
     "metadata": {},
     "output_type": "display_data"
    }
   ],
   "source": [
    "display(Math('%g+%g = %g' %(x,y,x+y)))\n",
    "\n",
    "#substitutes %g with each value here: %(x,y,x+y)))"
   ]
  },
  {
   "cell_type": "code",
   "execution_count": 19,
   "id": "49de24b8",
   "metadata": {},
   "outputs": [
    {
     "data": {
      "text/latex": [
       "$\\displaystyle 4/5 = .8$"
      ],
      "text/plain": [
       "<IPython.core.display.Math object>"
      ]
     },
     "metadata": {},
     "output_type": "display_data"
    },
    {
     "data": {
      "text/latex": [
       "$\\displaystyle \\frac{4}{5} = .8$"
      ],
      "text/plain": [
       "<IPython.core.display.Math object>"
      ]
     },
     "metadata": {},
     "output_type": "display_data"
    }
   ],
   "source": [
    "display(Math('4/5 = .8'))\n",
    "display(Math('\\\\frac{4}{5} = .8'))"
   ]
  },
  {
   "cell_type": "code",
   "execution_count": 24,
   "id": "d583f30d",
   "metadata": {},
   "outputs": [
    {
     "data": {
      "text/latex": [
       "$\\displaystyle 3.4 \\times 17 = 57.8$"
      ],
      "text/plain": [
       "<IPython.core.display.Math object>"
      ]
     },
     "metadata": {},
     "output_type": "display_data"
    }
   ],
   "source": [
    "x = 3.4\n",
    "y = 17\n",
    "display(Math('%g \\\\times %g = %g' %(x,y, x*y)))"
   ]
  },
  {
   "cell_type": "code",
   "execution_count": 53,
   "id": "8bd8476c",
   "metadata": {},
   "outputs": [
    {
     "data": {
      "text/latex": [
       "$\\displaystyle 3x(4+y) = 42$"
      ],
      "text/plain": [
       "<IPython.core.display.Math object>"
      ]
     },
     "metadata": {},
     "output_type": "display_data"
    },
    {
     "data": {
      "text/latex": [
       "$\\displaystyle 3 \\times 7(4 + (-2)) = 42$"
      ],
      "text/plain": [
       "<IPython.core.display.Math object>"
      ]
     },
     "metadata": {},
     "output_type": "display_data"
    },
    {
     "data": {
      "text/latex": [
       "$\\displaystyle -y - \\frac{x +3}{z} = 0$"
      ],
      "text/plain": [
       "<IPython.core.display.Math object>"
      ]
     },
     "metadata": {},
     "output_type": "display_data"
    },
    {
     "data": {
      "text/latex": [
       "$\\displaystyle --2 - \\frac{7 + 3}{5} = 0$"
      ],
      "text/plain": [
       "<IPython.core.display.Math object>"
      ]
     },
     "metadata": {},
     "output_type": "display_data"
    },
    {
     "data": {
      "text/latex": [
       "$\\displaystyle --2 - \\frac{7 + 3}{5} = 0$"
      ],
      "text/plain": [
       "<IPython.core.display.Math object>"
      ]
     },
     "metadata": {},
     "output_type": "display_data"
    }
   ],
   "source": [
    "x = 7\n",
    "y = -2\n",
    "z = 5\n",
    "\n",
    "display(Math('3x(4+y) = 42'))\n",
    "display(Math('3 \\\\times %g(4 + (%g)) = 42' %(x,y)))\n",
    "display(Math('-y - \\\\frac{x +3}{z} = 0'))\n",
    "\n",
    "\n",
    "display(Math('-%g - \\\\frac{%g + 3}{%g} = %g' % (y, x, z, -y - ((x + 3) / z))))\n",
    "\n",
    "# or\n",
    "\n",
    "ans = -y - (x+3)/z\n",
    "display(Math('-%g - \\\\frac{%g + 3}{%g} = %g' % (y, x, z, ans)))"
   ]
  },
  {
   "cell_type": "markdown",
   "id": "c1747019",
   "metadata": {},
   "source": [
    "## Exponents (powers)"
   ]
  },
  {
   "cell_type": "code",
   "execution_count": 55,
   "id": "f6947323",
   "metadata": {},
   "outputs": [
    {
     "name": "stdout",
     "output_type": "stream",
     "text": [
      "729\n",
      "729\n"
     ]
    }
   ],
   "source": [
    "print(3**2 * 3**4)\n",
    "print(3**(2+4))"
   ]
  },
  {
   "cell_type": "code",
   "execution_count": 61,
   "id": "87ff8218",
   "metadata": {},
   "outputs": [
    {
     "data": {
      "text/latex": [
       "$\\displaystyle 3^2\\times 3^4 = 3^{2+4}$"
      ],
      "text/plain": [
       "<IPython.core.display.Math object>"
      ]
     },
     "metadata": {},
     "output_type": "display_data"
    }
   ],
   "source": [
    "from IPython.display import display, Math\n",
    "display(Math('3^2\\\\times 3^4 = 3^{2+4}'))"
   ]
  },
  {
   "cell_type": "markdown",
   "id": "a3c8ef50",
   "metadata": {},
   "source": [
    "### Execerises"
   ]
  },
  {
   "cell_type": "code",
   "execution_count": 71,
   "id": "15a686b5",
   "metadata": {},
   "outputs": [
    {
     "data": {
      "text/latex": [
       "$\\displaystyle 5^{3/4} \\times 4^{5.1} = 3933.09$"
      ],
      "text/plain": [
       "<IPython.core.display.Math object>"
      ]
     },
     "metadata": {},
     "output_type": "display_data"
    }
   ],
   "source": [
    "#Exercise no.1\n",
    "x = 5\n",
    "y = 5.1\n",
    "ans = x**(3/4) * 4**y\n",
    "display(Math('%g^{3/4} \\\\times 4^{%g} = %g' %(x, y, ans)))"
   ]
  },
  {
   "cell_type": "code",
   "execution_count": 76,
   "id": "c520ccb6",
   "metadata": {},
   "outputs": [
    {
     "data": {
      "text/latex": [
       "$\\displaystyle \\frac{3^3}{5^{5.1}} = 0.00735558$"
      ],
      "text/plain": [
       "<IPython.core.display.Math object>"
      ]
     },
     "metadata": {},
     "output_type": "display_data"
    }
   ],
   "source": [
    "#Exercise no2\n",
    "ans1 = 3**3 / x**y\n",
    "display(Math('\\\\frac{3^3}{%g^{%g}} = %g' %(x, y, ans1)))"
   ]
  },
  {
   "cell_type": "code",
   "execution_count": 79,
   "id": "16ba1956",
   "metadata": {},
   "outputs": [
    {
     "data": {
      "text/latex": [
       "$\\displaystyle 10^{5-4} = 10$"
      ],
      "text/plain": [
       "<IPython.core.display.Math object>"
      ]
     },
     "metadata": {},
     "output_type": "display_data"
    }
   ],
   "source": [
    "#Exercise no.3\n",
    "ans2 = 10**(x-4)\n",
    "display(Math('10^{%g-4} = %g' %(x, ans2)))"
   ]
  },
  {
   "cell_type": "markdown",
   "id": "2c114065",
   "metadata": {},
   "source": [
    "## For loop"
   ]
  },
  {
   "cell_type": "code",
   "execution_count": 90,
   "id": "9d351542",
   "metadata": {},
   "outputs": [
    {
     "name": "stdout",
     "output_type": "stream",
     "text": [
      "0\n",
      "2\n",
      "4\n",
      "6\n"
     ]
    }
   ],
   "source": [
    "for i in [0, 1, 2, 3]:\n",
    "    print(i * 2)"
   ]
  },
  {
   "cell_type": "code",
   "execution_count": 88,
   "id": "eedc0756",
   "metadata": {},
   "outputs": [
    {
     "name": "stdout",
     "output_type": "stream",
     "text": [
      "2\n",
      "3\n"
     ]
    }
   ],
   "source": [
    "for i in [0, 1, 2, 3]:\n",
    "    if i > 1:\n",
    "        print(i)"
   ]
  },
  {
   "cell_type": "code",
   "execution_count": 89,
   "id": "4f74747f",
   "metadata": {},
   "outputs": [
    {
     "name": "stdout",
     "output_type": "stream",
     "text": [
      "This is the 0th iteration\n",
      "This is the 1th iteration\n",
      "This is the 2th iteration\n"
     ]
    }
   ],
   "source": [
    "for qwerty in range(0,3):\n",
    "    print('This is the %gth iteration' %qwerty)"
   ]
  },
  {
   "cell_type": "code",
   "execution_count": 92,
   "id": "e54eafc3",
   "metadata": {},
   "outputs": [
    {
     "name": "stdout",
     "output_type": "stream",
     "text": [
      "0\n",
      "1\n",
      "4\n",
      "9\n",
      "16\n"
     ]
    }
   ],
   "source": [
    "for t in range(0, 5):\n",
    "    num = t ** 2\n",
    "    print(num)"
   ]
  },
  {
   "cell_type": "code",
   "execution_count": 135,
   "id": "6fdc08dd",
   "metadata": {
    "scrolled": false
   },
   "outputs": [
    {
     "name": "stdout",
     "output_type": "stream",
     "text": [
      "10 to the power of 0 is 1\n",
      "10 to the power of 1 is 10\n",
      "10 to the power of 2 is 100\n",
      "10 to the power of 3 is 1000\n",
      "10 to the power of 4 is 10000\n",
      "10 to the power of 5 is 100000\n",
      "10 to the power of 6 is 1000000\n",
      "10 to the power of 7 is 10000000\n",
      "10 to the power of 8 is 100000000\n",
      "10 to the power of 9 is 1000000000\n"
     ]
    }
   ],
   "source": [
    "base = 10\n",
    "t= t + 1\n",
    "for t in range(0, 10):\n",
    "    exponent = base ** t\n",
    "    print('%g to the power of %g is' %(base, t) + ' ' + str(exponent))"
   ]
  },
  {
   "cell_type": "code",
   "execution_count": 139,
   "id": "9079b7ea",
   "metadata": {},
   "outputs": [
    {
     "name": "stdout",
     "output_type": "stream",
     "text": [
      "2 to the power of 0 is 1\n",
      "2 to the power of 1 is 2\n",
      "2 to the power of 2 is 4\n",
      "2 to the power of 3 is 8\n",
      "2 to the power of 4 is 16\n",
      "2 to the power of 5 is 32\n",
      "2 to the power of 6 is 64\n",
      "2 to the power of 7 is 128\n",
      "2 to the power of 8 is 256\n",
      "2 to the power of 9 is 512\n"
     ]
    }
   ],
   "source": [
    "# OR\n",
    "basee = 2\n",
    "i = i + 1\n",
    "for i in range(0, 10):\n",
    "    exponent = basee ** i\n",
    "    print('%g to the power of %g is %g' %(basee, i,exponent))"
   ]
  },
  {
   "cell_type": "code",
   "execution_count": 144,
   "id": "0f7bd1ff",
   "metadata": {},
   "outputs": [
    {
     "name": "stdout",
     "output_type": "stream",
     "text": [
      "0.51 to the power of 0 is 1\n",
      "0.51 to the power of 1 is 0.51\n",
      "0.51 to the power of 2 is 0.2601\n",
      "0.51 to the power of 3 is 0.132651\n",
      "0.51 to the power of 4 is 0.067652\n",
      "0.51 to the power of 5 is 0.0345025\n",
      "0.51 to the power of 6 is 0.0175963\n",
      "0.51 to the power of 7 is 0.00897411\n",
      "0.51 to the power of 8 is 0.00457679\n",
      "0.51 to the power of 9 is 0.00233417\n"
     ]
    }
   ],
   "source": [
    "# OR\n",
    "power = 0.51\n",
    "for exp in range(0,10):\n",
    "    print('%g to the power of %g is %g' %(power, exp, power**exp))"
   ]
  },
  {
   "cell_type": "markdown",
   "id": "4515a032",
   "metadata": {},
   "source": [
    "## Order of operations\n",
    "PEMDAS\n",
    "\n",
    "Parantheses\n",
    "\n",
    "Exponents\n",
    "\n",
    "Multiplication\n",
    "\n",
    "Division\n",
    "\n",
    "Addition\n",
    "\n",
    "Subtraction"
   ]
  },
  {
   "cell_type": "code",
   "execution_count": 145,
   "id": "43871d48",
   "metadata": {},
   "outputs": [
    {
     "name": "stdout",
     "output_type": "stream",
     "text": [
      "9\n"
     ]
    }
   ],
   "source": [
    "print(4 + 3 * 2 -1)"
   ]
  },
  {
   "cell_type": "code",
   "execution_count": 147,
   "id": "77bd500d",
   "metadata": {},
   "outputs": [
    {
     "name": "stdout",
     "output_type": "stream",
     "text": [
      "13\n"
     ]
    }
   ],
   "source": [
    "print( (4 + 3) * 2 -1)\n",
    "# first pharantheses is calculated"
   ]
  },
  {
   "cell_type": "markdown",
   "id": "ec777c6f",
   "metadata": {},
   "source": [
    "### Exercises"
   ]
  },
  {
   "cell_type": "code",
   "execution_count": 152,
   "id": "afb71749",
   "metadata": {},
   "outputs": [
    {
     "name": "stdout",
     "output_type": "stream",
     "text": [
      "2.0\n"
     ]
    }
   ],
   "source": [
    "#1 \n",
    "print(4 * 5 / (7 + 3))"
   ]
  },
  {
   "cell_type": "code",
   "execution_count": 154,
   "id": "15a11949",
   "metadata": {},
   "outputs": [
    {
     "name": "stdout",
     "output_type": "stream",
     "text": [
      "0.0\n"
     ]
    }
   ],
   "source": [
    "#2\n",
    "print(9/(3+6) - 1 )"
   ]
  },
  {
   "cell_type": "markdown",
   "id": "92ed8cb2",
   "metadata": {},
   "source": [
    "## Inequalities and Boolean data type"
   ]
  },
  {
   "cell_type": "code",
   "execution_count": 157,
   "id": "df72dda2",
   "metadata": {},
   "outputs": [
    {
     "name": "stdout",
     "output_type": "stream",
     "text": [
      "False\n"
     ]
    }
   ],
   "source": [
    "b = 10 > 3*3.8 \n",
    "print(b)"
   ]
  },
  {
   "cell_type": "code",
   "execution_count": 158,
   "id": "884f536a",
   "metadata": {},
   "outputs": [],
   "source": [
    "x = 2"
   ]
  },
  {
   "cell_type": "code",
   "execution_count": 178,
   "id": "2d6b30f5",
   "metadata": {},
   "outputs": [
    {
     "name": "stdout",
     "output_type": "stream",
     "text": [
      "2\n",
      "True\n",
      "3\n",
      "False\n",
      "4\n",
      "False\n"
     ]
    }
   ],
   "source": [
    "for x in (1,2,3):\n",
    "    x = x + 1\n",
    "    print(x)\n",
    "    print(4*x + 3 < 17 - x**2)\n",
    "    #print(8*x - 2 <= -3*x + 42)"
   ]
  },
  {
   "cell_type": "code",
   "execution_count": 180,
   "id": "afb28619",
   "metadata": {},
   "outputs": [
    {
     "name": "stdout",
     "output_type": "stream",
     "text": [
      "2\n",
      "True\n",
      "3\n",
      "True\n",
      "4\n",
      "True\n"
     ]
    }
   ],
   "source": [
    "for x in (2, 3, 4):\n",
    "    print(x)\n",
    "    #print(4*x + 3 < 17 - x**2)\n",
    "    print(8*x - 2 <= -3*x + 42)\n"
   ]
  },
  {
   "cell_type": "markdown",
   "id": "0bda0251",
   "metadata": {},
   "source": [
    "## if statements and logical operators"
   ]
  },
  {
   "cell_type": "code",
   "execution_count": 181,
   "id": "a9801029",
   "metadata": {},
   "outputs": [
    {
     "name": "stdout",
     "output_type": "stream",
     "text": [
      "6\n"
     ]
    }
   ],
   "source": [
    "if 4 +2 == 5:\n",
    "    print('true')\n",
    "else:\n",
    "    print(4+2)"
   ]
  },
  {
   "cell_type": "code",
   "execution_count": 185,
   "id": "dc7867db",
   "metadata": {},
   "outputs": [
    {
     "name": "stdout",
     "output_type": "stream",
     "text": [
      "5 is equal to 5\n"
     ]
    }
   ],
   "source": [
    "x1 = 5\n",
    "x2 = 5\n",
    "if x1>x2:\n",
    "    print('%g is greater than %g' %(x1,x2))\n",
    "elif x1<x2:\n",
    "    print('%g is greater than %g' %(x2,x1))\n",
    "else:\n",
    "    print('%g is equal to %g' %(x2,x1))"
   ]
  },
  {
   "cell_type": "code",
   "execution_count": 187,
   "id": "0519b831",
   "metadata": {},
   "outputs": [
    {
     "ename": "TypeError",
     "evalue": "'>' not supported between instances of 'tuple' and 'int'",
     "output_type": "error",
     "traceback": [
      "\u001b[1;31m---------------------------------------------------------------------------\u001b[0m",
      "\u001b[1;31mTypeError\u001b[0m                                 Traceback (most recent call last)",
      "\u001b[1;32m<ipython-input-187-83c06e2644cb>\u001b[0m in \u001b[0;36m<module>\u001b[1;34m\u001b[0m\n\u001b[0;32m      2\u001b[0m \u001b[0mj\u001b[0m \u001b[1;33m=\u001b[0m \u001b[1;33m(\u001b[0m\u001b[1;36m0\u001b[0m\u001b[1;33m,\u001b[0m\u001b[1;36m1\u001b[0m\u001b[1;33m,\u001b[0m\u001b[1;36m2\u001b[0m\u001b[1;33m,\u001b[0m\u001b[1;36m3\u001b[0m\u001b[1;33m,\u001b[0m\u001b[1;36m4\u001b[0m\u001b[1;33m)\u001b[0m\u001b[1;33m\u001b[0m\u001b[1;33m\u001b[0m\u001b[0m\n\u001b[0;32m      3\u001b[0m \u001b[1;33m\u001b[0m\u001b[0m\n\u001b[1;32m----> 4\u001b[1;33m \u001b[1;32mif\u001b[0m \u001b[0mi\u001b[0m \u001b[1;33m>\u001b[0m \u001b[1;36m0\u001b[0m \u001b[1;32mand\u001b[0m \u001b[0mj\u001b[0m \u001b[1;33m>\u001b[0m \u001b[1;36m0\u001b[0m\u001b[1;33m:\u001b[0m\u001b[1;33m\u001b[0m\u001b[1;33m\u001b[0m\u001b[0m\n\u001b[0m\u001b[0;32m      5\u001b[0m     \u001b[0mprint\u001b[0m\u001b[1;33m(\u001b[0m\u001b[0mi\u001b[0m\u001b[1;33m**\u001b[0m\u001b[1;33m(\u001b[0m\u001b[1;33m-\u001b[0m\u001b[0mj\u001b[0m\u001b[1;33m)\u001b[0m\u001b[1;33m)\u001b[0m\u001b[1;33m\u001b[0m\u001b[1;33m\u001b[0m\u001b[0m\n",
      "\u001b[1;31mTypeError\u001b[0m: '>' not supported between instances of 'tuple' and 'int'"
     ]
    }
   ],
   "source": [
    "i = (0,1,2,3)\n",
    "j = (0,1,2,3,4)\n",
    "\n",
    "if i > 0 and j > 0:\n",
    "    print(i**(-j))"
   ]
  },
  {
   "cell_type": "code",
   "execution_count": 188,
   "id": "8e95e72b",
   "metadata": {},
   "outputs": [
    {
     "ename": "SyntaxError",
     "evalue": "invalid syntax (<ipython-input-188-9549f452da0a>, line 2)",
     "output_type": "error",
     "traceback": [
      "\u001b[1;36m  File \u001b[1;32m\"<ipython-input-188-9549f452da0a>\"\u001b[1;36m, line \u001b[1;32m2\u001b[0m\n\u001b[1;33m    for j in (0,1,2,3,4)\u001b[0m\n\u001b[1;37m                        ^\u001b[0m\n\u001b[1;31mSyntaxError\u001b[0m\u001b[1;31m:\u001b[0m invalid syntax\n"
     ]
    }
   ],
   "source": [
    "for i in (0,1,2,3):\n",
    "    for j in (0,1,2,3,4)\n",
    "    if i and j > 0:\n",
    "        print('%g^{%g}' %(i,j))\n",
    "    else:\n",
    "        print('wrong syntax, you dumass')"
   ]
  },
  {
   "cell_type": "code",
   "execution_count": 197,
   "id": "5f9bb08c",
   "metadata": {},
   "outputs": [
    {
     "ename": "SyntaxError",
     "evalue": "invalid syntax (<ipython-input-197-1bb7cb786fd8>, line 5)",
     "output_type": "error",
     "traceback": [
      "\u001b[1;36m  File \u001b[1;32m\"<ipython-input-197-1bb7cb786fd8>\"\u001b[1;36m, line \u001b[1;32m5\u001b[0m\n\u001b[1;33m    else:\u001b[0m\n\u001b[1;37m    ^\u001b[0m\n\u001b[1;31mSyntaxError\u001b[0m\u001b[1;31m:\u001b[0m invalid syntax\n"
     ]
    }
   ],
   "source": [
    "for i in (0, 1, 2, 3):\n",
    "    for j in (0, 1, 2, 3, 4):\n",
    "        if i > 0 and j > 0:\n",
    "            display(Math('%g^{-{%g}}' %(i, j)\n",
    "        else:\n",
    "            print('')\n"
   ]
  },
  {
   "cell_type": "code",
   "execution_count": 212,
   "id": "164170bc",
   "metadata": {},
   "outputs": [
    {
     "data": {
      "text/latex": [
       "$\\displaystyle 1^{-{1}} = 1$"
      ],
      "text/plain": [
       "<IPython.core.display.Math object>"
      ]
     },
     "metadata": {},
     "output_type": "display_data"
    },
    {
     "data": {
      "text/latex": [
       "$\\displaystyle 1^{-{2}} = 1$"
      ],
      "text/plain": [
       "<IPython.core.display.Math object>"
      ]
     },
     "metadata": {},
     "output_type": "display_data"
    },
    {
     "data": {
      "text/latex": [
       "$\\displaystyle 1^{-{3}} = 1$"
      ],
      "text/plain": [
       "<IPython.core.display.Math object>"
      ]
     },
     "metadata": {},
     "output_type": "display_data"
    },
    {
     "data": {
      "text/latex": [
       "$\\displaystyle 1^{-{4}} = 1$"
      ],
      "text/plain": [
       "<IPython.core.display.Math object>"
      ]
     },
     "metadata": {},
     "output_type": "display_data"
    },
    {
     "data": {
      "text/latex": [
       "$\\displaystyle 2^{-{1}} = 0.5$"
      ],
      "text/plain": [
       "<IPython.core.display.Math object>"
      ]
     },
     "metadata": {},
     "output_type": "display_data"
    },
    {
     "data": {
      "text/latex": [
       "$\\displaystyle 2^{-{2}} = 0.25$"
      ],
      "text/plain": [
       "<IPython.core.display.Math object>"
      ]
     },
     "metadata": {},
     "output_type": "display_data"
    },
    {
     "data": {
      "text/latex": [
       "$\\displaystyle 2^{-{3}} = 0.125$"
      ],
      "text/plain": [
       "<IPython.core.display.Math object>"
      ]
     },
     "metadata": {},
     "output_type": "display_data"
    },
    {
     "data": {
      "text/latex": [
       "$\\displaystyle 2^{-{4}} = 0.0625$"
      ],
      "text/plain": [
       "<IPython.core.display.Math object>"
      ]
     },
     "metadata": {},
     "output_type": "display_data"
    },
    {
     "data": {
      "text/latex": [
       "$\\displaystyle 3^{-{1}} = 0.333333$"
      ],
      "text/plain": [
       "<IPython.core.display.Math object>"
      ]
     },
     "metadata": {},
     "output_type": "display_data"
    },
    {
     "data": {
      "text/latex": [
       "$\\displaystyle 3^{-{2}} = 0.111111$"
      ],
      "text/plain": [
       "<IPython.core.display.Math object>"
      ]
     },
     "metadata": {},
     "output_type": "display_data"
    },
    {
     "data": {
      "text/latex": [
       "$\\displaystyle 3^{-{3}} = 0.037037$"
      ],
      "text/plain": [
       "<IPython.core.display.Math object>"
      ]
     },
     "metadata": {},
     "output_type": "display_data"
    },
    {
     "data": {
      "text/latex": [
       "$\\displaystyle 3^{-{4}} = 0.0123457$"
      ],
      "text/plain": [
       "<IPython.core.display.Math object>"
      ]
     },
     "metadata": {},
     "output_type": "display_data"
    }
   ],
   "source": [
    "from IPython.display import display, Math\n",
    "for i in range(0,4):\n",
    "    for j in range(0,5):\n",
    "        if i > 0 and j > 0:\n",
    "            ans = i**(-j)\n",
    "            display(Math('%g^{-{%g}} = %g' % (i, j, ans)))\n"
   ]
  },
  {
   "cell_type": "markdown",
   "id": "db2c0552",
   "metadata": {},
   "source": [
    "### Absolute numbers"
   ]
  },
  {
   "cell_type": "code",
   "execution_count": 1,
   "id": "37e05fb9",
   "metadata": {},
   "outputs": [
    {
     "data": {
      "text/plain": [
       "(-4, 4)"
      ]
     },
     "execution_count": 1,
     "metadata": {},
     "output_type": "execute_result"
    }
   ],
   "source": [
    "a = -4\n",
    "b = abs(a)\n",
    "a, b"
   ]
  },
  {
   "cell_type": "code",
   "execution_count": 5,
   "id": "5132e627",
   "metadata": {},
   "outputs": [
    {
     "data": {
      "text/latex": [
       "$\\displaystyle |7| = 7$"
      ],
      "text/plain": [
       "<IPython.core.display.Math object>"
      ]
     },
     "metadata": {},
     "output_type": "display_data"
    }
   ],
   "source": [
    "from IPython.display import display, Math\n",
    "\n",
    "x = 7\n",
    "\n",
    "display(Math('|%g| = %g' %(x, abs(x))))"
   ]
  },
  {
   "cell_type": "code",
   "execution_count": 1,
   "id": "90246d54",
   "metadata": {},
   "outputs": [
    {
     "name": "stdout",
     "output_type": "stream",
     "text": [
      "-4 was not tested\n",
      "Absolute value of |6| is 6\n",
      "-1 was not tested\n",
      "Absolute value of |43| is 43\n",
      "Absolute value of |-18| is 18\n",
      "2 was not tested\n",
      "0 was not tested\n"
     ]
    }
   ],
   "source": [
    "numbers = [-4, 6, -1, 43, -18, 2, 0]\n",
    "\n",
    "for abv in numbers:\n",
    "    if abv < -5 or abv > 2:\n",
    "        print('Absolute value of |%g| is %g' %(abv, abs(abv)))\n",
    "    else:\n",
    "        print('%g was not tested' %abv)"
   ]
  },
  {
   "cell_type": "markdown",
   "id": "26888782",
   "metadata": {},
   "source": [
    "## DO MORE EXERCISE ON FOR LOOP"
   ]
  },
  {
   "cell_type": "markdown",
   "id": "c1915b92",
   "metadata": {},
   "source": [
    "### Remainder division"
   ]
  },
  {
   "cell_type": "code",
   "execution_count": 7,
   "id": "0aaf5cb1",
   "metadata": {},
   "outputs": [
    {
     "data": {
      "text/plain": [
       "3"
      ]
     },
     "execution_count": 7,
     "metadata": {},
     "output_type": "execute_result"
    }
   ],
   "source": [
    "a = 10\n",
    "b = 3\n",
    "\n",
    "# integer division\n",
    "int(a/b)"
   ]
  },
  {
   "cell_type": "code",
   "execution_count": 8,
   "id": "3681874a",
   "metadata": {},
   "outputs": [
    {
     "data": {
      "text/plain": [
       "0"
      ]
     },
     "execution_count": 8,
     "metadata": {},
     "output_type": "execute_result"
    }
   ],
   "source": [
    "a%b"
   ]
  },
  {
   "cell_type": "code",
   "execution_count": 10,
   "id": "c52aadd1",
   "metadata": {},
   "outputs": [
    {
     "name": "stdout",
     "output_type": "stream",
     "text": [
      "312 goes into 143243, 459 times with a remainder of 35.\n"
     ]
    }
   ],
   "source": [
    "a = 143243\n",
    "b = 312\n",
    "divis = int(a/b)\n",
    "remainder = a%b\n",
    "print('%g goes into %g, %g times with a remainder of %g.' %(b,a, divis, remainder))"
   ]
  },
  {
   "cell_type": "code",
   "execution_count": 56,
   "id": "967b086d",
   "metadata": {
    "scrolled": true
   },
   "outputs": [
    {
     "name": "stdout",
     "output_type": "stream",
     "text": [
      "-5 is an odd  number\n",
      "-4 is an even number\n",
      "-3 is an odd  number\n",
      "-2 is an even number\n",
      "-1 is an odd  number\n",
      " 0 is neither odd nor even. No, joking, it's even.\n",
      " 1 is an odd  number\n",
      " 2 is an even number\n",
      " 3 is an odd  number\n",
      " 4 is an even number\n",
      " 5 is an odd  number\n"
     ]
    }
   ],
   "source": [
    "numbers = range(-5,6)\n",
    "for number in numbers:\n",
    "    firstchar = ' '\n",
    "    if number < 0:\n",
    "        firstchar = ''\n",
    "    try:\n",
    "        if number == 0:\n",
    "            raise ValueError('Number is zero')\n",
    "            \n",
    "        if number % 2 == 0:\n",
    "            print('%s%g is an even number' %(firstchar,number))\n",
    "        else:\n",
    "            print('%s%g is an odd  number' %(firstchar,number))\n",
    "    except ValueError:\n",
    "        print(' 0 is neither odd nor even. No, joking, it\\'s even.') # OR instead of using '', use \"\" with ' \n",
    "        #print(\" 0 is neither odd nor even. No, joking, it's even.\")"
   ]
  },
  {
   "cell_type": "markdown",
   "id": "a7615cc4",
   "metadata": {},
   "source": [
    "### Creating functions"
   ]
  },
  {
   "cell_type": "code",
   "execution_count": 47,
   "id": "ada0cc88",
   "metadata": {},
   "outputs": [],
   "source": [
    "def myfunction(name):\n",
    "    print('Hello %s.' %name)"
   ]
  },
  {
   "cell_type": "code",
   "execution_count": 48,
   "id": "fd04f341",
   "metadata": {},
   "outputs": [
    {
     "name": "stdout",
     "output_type": "stream",
     "text": [
      "Hello Jabir.\n"
     ]
    }
   ],
   "source": [
    "myfunction('Jabir')"
   ]
  },
  {
   "cell_type": "code",
   "execution_count": 63,
   "id": "557f4670",
   "metadata": {},
   "outputs": [],
   "source": [
    "def computeremainder(x,y):\n",
    "    divis = int(x/y)\n",
    "    remainder = x%y\n",
    "    \n",
    "    print(\"%g goes ino %g, %g times with a reminder of %g\" %(y,x,divis, remainder))"
   ]
  },
  {
   "cell_type": "code",
   "execution_count": 64,
   "id": "b706e367",
   "metadata": {},
   "outputs": [
    {
     "name": "stdout",
     "output_type": "stream",
     "text": [
      "6 goes ino 100, 16 times with a reminder of 4\n"
     ]
    }
   ],
   "source": [
    "computeremainder(100,6)"
   ]
  },
  {
   "cell_type": "code",
   "execution_count": 70,
   "id": "def2acfc",
   "metadata": {},
   "outputs": [
    {
     "name": "stdout",
     "output_type": "stream",
     "text": [
      "insert a number: 32\n"
     ]
    }
   ],
   "source": [
    "a = int( input('insert a number: '))"
   ]
  },
  {
   "cell_type": "code",
   "execution_count": 71,
   "id": "0a6eaecd",
   "metadata": {},
   "outputs": [
    {
     "data": {
      "text/plain": [
       "int"
      ]
     },
     "execution_count": 71,
     "metadata": {},
     "output_type": "execute_result"
    }
   ],
   "source": [
    "type(a)"
   ]
  },
  {
   "cell_type": "code",
   "execution_count": 72,
   "id": "4104bca6",
   "metadata": {},
   "outputs": [
    {
     "data": {
      "text/plain": [
       "37"
      ]
     },
     "execution_count": 72,
     "metadata": {},
     "output_type": "execute_result"
    }
   ],
   "source": [
    "a + 5"
   ]
  },
  {
   "cell_type": "code",
   "execution_count": 93,
   "id": "2e30f4bd",
   "metadata": {},
   "outputs": [],
   "source": [
    "def divisionwithinput():\n",
    "    \n",
    "    x = int( input('insert the numberator: '))\n",
    "    y = int( input('insert the denominator: '))\n",
    "    \n",
    "    divis = int(x/y)\n",
    "    remainder = x%y\n",
    "    \n",
    "    print('%g goes into %g, %g times with a remainder of %g' %(y,x, divis, remainder))"
   ]
  },
  {
   "cell_type": "code",
   "execution_count": 94,
   "id": "c14c17ea",
   "metadata": {},
   "outputs": [
    {
     "name": "stdout",
     "output_type": "stream",
     "text": [
      "insert the numberator: 164\n",
      "insert the denominator: 16\n",
      "16 goes into 164, 10 times with a remainder of 4\n"
     ]
    }
   ],
   "source": [
    "divisionwithinput()"
   ]
  },
  {
   "cell_type": "markdown",
   "id": "18446333",
   "metadata": {},
   "source": [
    "### Creating interactive math functions part 2"
   ]
  },
  {
   "cell_type": "code",
   "execution_count": 114,
   "id": "1f200809",
   "metadata": {},
   "outputs": [],
   "source": [
    "def mathcompute():\n",
    "    # Inputs defined\n",
    "    x = int(input('Insert the input for X: '))\n",
    "    y = int(input('Insert the input for Y: '))\n",
    "    functionswitch = int(input('For X to the power of Y, insert 1. For X divided by Y, insert 2'))\n",
    "    \n",
    "    # Conditions defined\n",
    "    if functionswitch  == 1:\n",
    "        result = x**y\n",
    "        print(f\"{x} to the power of {y} is {result}\")\n",
    "        \n",
    "        \n",
    "    elif functionswitch == 2:\n",
    "        result = x/y\n",
    "        print(f\"{x} divided by {y} is {result}.\")\n",
    "        \n",
    "        \n",
    "    else:\n",
    "        print('Invalid selection!')"
   ]
  },
  {
   "cell_type": "code",
   "execution_count": 115,
   "id": "e6082873",
   "metadata": {},
   "outputs": [
    {
     "name": "stdout",
     "output_type": "stream",
     "text": [
      "Insert the input for X: 2\n",
      "Insert the input for Y: 4\n",
      "For X to the power of Y, insert 1. For X divided by Y, insert 21\n",
      "2 to the power of 4 is 16\n"
     ]
    }
   ],
   "source": [
    "mathcompute()"
   ]
  },
  {
   "cell_type": "code",
   "execution_count": 116,
   "id": "319f6daf",
   "metadata": {},
   "outputs": [
    {
     "name": "stdout",
     "output_type": "stream",
     "text": [
      "Insert the input for X: 2\n",
      "Insert the input for Y: 4\n",
      "For X to the power of Y, insert 1. For X divided by Y, insert 22\n",
      "2 divided by 4 is 0.5.\n"
     ]
    }
   ],
   "source": [
    "mathcompute()"
   ]
  },
  {
   "cell_type": "code",
   "execution_count": 117,
   "id": "ed16dda7",
   "metadata": {},
   "outputs": [
    {
     "name": "stdout",
     "output_type": "stream",
     "text": [
      "Insert the input for X: 3\n",
      "Insert the input for Y: 5\n",
      "For X to the power of Y, insert 1. For X divided by Y, insert 23\n",
      "Invalid selection!\n"
     ]
    }
   ],
   "source": [
    "mathcompute()"
   ]
  },
  {
   "cell_type": "code",
   "execution_count": 118,
   "id": "7bdfba2b",
   "metadata": {},
   "outputs": [
    {
     "name": "stdout",
     "output_type": "stream",
     "text": [
      "Insert the input for X: 3\n",
      "Insert the input for Y: 5\n",
      "For X to the power of Y, insert 1. For X divided by Y, insert 21\n",
      "3 to the power of 5 is 243\n"
     ]
    }
   ],
   "source": [
    "mathcompute()"
   ]
  },
  {
   "cell_type": "code",
   "execution_count": 119,
   "id": "7bee490e",
   "metadata": {},
   "outputs": [
    {
     "name": "stdout",
     "output_type": "stream",
     "text": [
      "Insert the input for X: 3\n",
      "Insert the input for Y: 5\n",
      "For X to the power of Y, insert 1. For X divided by Y, insert 22\n",
      "3 divided by 5 is 0.6.\n"
     ]
    }
   ],
   "source": [
    "mathcompute()"
   ]
  },
  {
   "cell_type": "markdown",
   "id": "b75fbbcb",
   "metadata": {},
   "source": [
    "### Create interactive math functions 3"
   ]
  },
  {
   "cell_type": "code",
   "execution_count": 1,
   "id": "bc832f3a",
   "metadata": {},
   "outputs": [
    {
     "data": {
      "text/plain": [
       "3"
      ]
     },
     "execution_count": 1,
     "metadata": {},
     "output_type": "execute_result"
    }
   ],
   "source": [
    "from numpy import random\n",
    "x = random.randint(1, 100)\n",
    "x        "
   ]
  },
  {
   "cell_type": "code",
   "execution_count": 23,
   "id": "fe14d474",
   "metadata": {},
   "outputs": [],
   "source": [
    "# define the function\n",
    "def guessTheNumber():\n",
    "    # generate a random integer\n",
    "    num2guess = random.randint(1,101)\n",
    "    \n",
    "    # ask the user for a guess\n",
    "    userguess = int(input('Guess a number between 1 and 100: '))\n",
    "    \n",
    "    # check whether the number is a match\n",
    "    while userguess != num2guess:      \n",
    "        # if user guessed more than 100         \n",
    "        if userguess > 100:\n",
    "            print('Invalid guess! Maximum guess is 100!')\n",
    "        # if too low, print a message and ask for another guess\n",
    "        elif userguess < num2guess:\n",
    "            print('Guess higher!')\n",
    "            \n",
    "        # if too high, print a message and ask for another guess\n",
    "        elif userguess > num2guess:\n",
    "            print('Guess lower!')\n",
    "        \n",
    "        userguess = int(input('Guess again: '))\n",
    "            \n",
    "        # if the guest is correct, congratulate the user!\n",
    "    print(f\"Got it! The right number was {num2guess} and your final guess was {userguess}\")"
   ]
  },
  {
   "cell_type": "code",
   "execution_count": 24,
   "id": "dfbd6a34",
   "metadata": {
    "scrolled": true
   },
   "outputs": [
    {
     "name": "stdout",
     "output_type": "stream",
     "text": [
      "Guess a number between 1 and 100: 155\n",
      "Invalid guess! Maximum guess is 100!\n",
      "Guess again: 96\n",
      "Guess lower!\n",
      "Guess again: 51\n",
      "Guess lower!\n",
      "Guess again: 49\n",
      "Guess lower!\n",
      "Guess again: 49\n",
      "Guess lower!\n",
      "Guess again: 26\n",
      "Guess lower!\n",
      "Guess again: 19\n",
      "Guess lower!\n",
      "Guess again: 10\n",
      "Guess lower!\n",
      "Guess again: 5\n",
      "Guess higher!\n",
      "Guess again: 6\n",
      "Guess higher!\n",
      "Guess again: 8\n",
      "Guess lower!\n",
      "Guess again: 7\n",
      "Got it! The right number was 7 and your final guess was 7\n"
     ]
    }
   ],
   "source": [
    "guessTheNumber()"
   ]
  },
  {
   "cell_type": "code",
   "execution_count": 5,
   "id": "685e26ca",
   "metadata": {},
   "outputs": [],
   "source": [
    "def guessTheNumber():\n",
    "    guess = int(input('Guess a number between 1 and 100: '))\n",
    "    while (guess != x):\n",
    "        if guess < x:\n",
    "            print('Guess higher!')\n",
    "        elif guess > x:\n",
    "            print('Guess lower!')\n",
    "        else:\n",
    "            print(f\"Got it! The right number was {x} and your final guess was {guess}\")\n",
    "            "
   ]
  },
  {
   "cell_type": "markdown",
   "id": "23916d2e",
   "metadata": {},
   "source": [
    "### Loop exercises"
   ]
  },
  {
   "cell_type": "code",
   "execution_count": 34,
   "id": "9932b432",
   "metadata": {},
   "outputs": [
    {
     "name": "stdout",
     "output_type": "stream",
     "text": [
      "1\n",
      "2\n",
      "3\n",
      "4\n",
      "5\n",
      "6\n",
      "7\n",
      "8\n",
      "9\n",
      "10\n"
     ]
    }
   ],
   "source": [
    "natural_nums = range(1,11)\n",
    "\n",
    "for natural_num in natural_nums:\n",
    "    #natural_num += 1\n",
    "    print(natural_num)"
   ]
  },
  {
   "cell_type": "code",
   "execution_count": 41,
   "id": "6dd38c6f",
   "metadata": {},
   "outputs": [
    {
     "name": "stdout",
     "output_type": "stream",
     "text": [
      "1\n",
      "2\n",
      "3\n",
      "4\n",
      "5\n",
      "6\n",
      "7\n",
      "8\n",
      "9\n",
      "10\n"
     ]
    }
   ],
   "source": [
    "nat_num = 1\n",
    "while nat_num < 11:\n",
    "    print(nat_num)\n",
    "    nat_num += 1"
   ]
  },
  {
   "cell_type": "markdown",
   "id": "0b036d58",
   "metadata": {},
   "source": [
    "Write a program to print the following number pattern using a loop.\n",
    "\n",
    "1 \\\n",
    "1 2 \\\n",
    "1 2 3 \\\n",
    "1 2 3 4 \\\n",
    "1 2 3 4 5 "
   ]
  },
  {
   "cell_type": "code",
   "execution_count": 75,
   "id": "d4e401f7",
   "metadata": {},
   "outputs": [
    {
     "name": "stdout",
     "output_type": "stream",
     "text": [
      "1 \n",
      "1 2 \n",
      "1 2 3 \n",
      "1 2 3 4 \n",
      "1 2 3 4 5 \n",
      "1 2 3 4 5 6 \n",
      "1 2 3 4 5 6 7 \n",
      "1 2 3 4 5 6 7 8 \n",
      "1 2 3 4 5 6 7 8 9 \n",
      "1 2 3 4 5 6 7 8 9 10 \n"
     ]
    }
   ],
   "source": [
    "n = 10\n",
    "for i in range(1, n+1):\n",
    "    for j in range(1, i+1):\n",
    "        print(j, end=' ')\n",
    "    print()"
   ]
  },
  {
   "cell_type": "markdown",
   "id": "882242c8",
   "metadata": {},
   "source": [
    "### BUG HUNT"
   ]
  },
  {
   "cell_type": "code",
   "execution_count": 78,
   "id": "fa6cabad",
   "metadata": {},
   "outputs": [
    {
     "name": "stdout",
     "output_type": "stream",
     "text": [
      "3\n"
     ]
    }
   ],
   "source": [
    "x = 1\n",
    "y = 2\n",
    "\n",
    "print(x+y)"
   ]
  },
  {
   "cell_type": "code",
   "execution_count": 87,
   "id": "b4a3c814",
   "metadata": {},
   "outputs": [
    {
     "data": {
      "text/latex": [
       "$\\displaystyle \\frac{1}{2}$"
      ],
      "text/plain": [
       "<IPython.core.display.Math object>"
      ]
     },
     "metadata": {},
     "output_type": "display_data"
    }
   ],
   "source": [
    "from IPython.display import Math, display\n",
    "display(Math('\\\\frac{1}{2}'))"
   ]
  },
  {
   "cell_type": "code",
   "execution_count": 92,
   "id": "49be6a99",
   "metadata": {},
   "outputs": [
    {
     "data": {
      "text/plain": [
       "'4.2 + 5 = 9.2'"
      ]
     },
     "metadata": {},
     "output_type": "display_data"
    }
   ],
   "source": [
    "x = 4.2\n",
    "y = 5\n",
    "display('%g + %g = %g' %(x, y, x+y))"
   ]
  },
  {
   "cell_type": "code",
   "execution_count": 93,
   "id": "f4a3e8cd",
   "metadata": {},
   "outputs": [
    {
     "data": {
      "text/latex": [
       "$\\displaystyle \\frac{4.2}{5} = 0.84$"
      ],
      "text/plain": [
       "<IPython.core.display.Math object>"
      ]
     },
     "metadata": {},
     "output_type": "display_data"
    }
   ],
   "source": [
    "display(Math('\\\\frac{%g}{%g} = %g' %(x,y,x/y)))"
   ]
  },
  {
   "cell_type": "code",
   "execution_count": 94,
   "id": "68602241",
   "metadata": {},
   "outputs": [
    {
     "data": {
      "text/plain": [
       "9"
      ]
     },
     "execution_count": 94,
     "metadata": {},
     "output_type": "execute_result"
    }
   ],
   "source": [
    "3**2"
   ]
  },
  {
   "cell_type": "code",
   "execution_count": 95,
   "id": "369ecbc5",
   "metadata": {},
   "outputs": [
    {
     "data": {
      "text/latex": [
       "$\\displaystyle 0\\times 2 = 0$"
      ],
      "text/plain": [
       "<IPython.core.display.Math object>"
      ]
     },
     "metadata": {},
     "output_type": "display_data"
    },
    {
     "data": {
      "text/latex": [
       "$\\displaystyle 1\\times 2 = 2$"
      ],
      "text/plain": [
       "<IPython.core.display.Math object>"
      ]
     },
     "metadata": {},
     "output_type": "display_data"
    },
    {
     "data": {
      "text/latex": [
       "$\\displaystyle 2\\times 2 = 4$"
      ],
      "text/plain": [
       "<IPython.core.display.Math object>"
      ]
     },
     "metadata": {},
     "output_type": "display_data"
    }
   ],
   "source": [
    "for i in range(0,3):\n",
    "    display(Math('%g\\\\times 2 = %g' %(i, i * 2)))"
   ]
  },
  {
   "cell_type": "code",
   "execution_count": 97,
   "id": "763e42c5",
   "metadata": {},
   "outputs": [
    {
     "name": "stdout",
     "output_type": "stream",
     "text": [
      "True\n"
     ]
    }
   ],
   "source": [
    "a = 10\n",
    "b = 20\n",
    "result = 2*a <= b\n",
    "print(result)"
   ]
  },
  {
   "cell_type": "code",
   "execution_count": 100,
   "id": "4c5eda8d",
   "metadata": {},
   "outputs": [
    {
     "name": "stdout",
     "output_type": "stream",
     "text": [
      "50 is greater than 40. Time to celebrate!\n"
     ]
    }
   ],
   "source": [
    "if a+b*2 > 40:\n",
    "    print(str(a+b*2) + ' is greater than' + ' ' + str(40) + '. Time to celebrate!')"
   ]
  },
  {
   "cell_type": "code",
   "execution_count": 101,
   "id": "ef9376f5",
   "metadata": {},
   "outputs": [
    {
     "name": "stdout",
     "output_type": "stream",
     "text": [
      "input a number3\n",
      "3\n"
     ]
    }
   ],
   "source": [
    "var = input('input a number')\n",
    "print(var)"
   ]
  },
  {
   "cell_type": "code",
   "execution_count": 102,
   "id": "2e496247",
   "metadata": {},
   "outputs": [
    {
     "data": {
      "text/plain": [
       "0.3"
      ]
     },
     "execution_count": 102,
     "metadata": {},
     "output_type": "execute_result"
    }
   ],
   "source": [
    "# division\n",
    "3/10"
   ]
  },
  {
   "cell_type": "code",
   "execution_count": 105,
   "id": "c3a00e4a",
   "metadata": {},
   "outputs": [
    {
     "name": "stdout",
     "output_type": "stream",
     "text": [
      "input a number: 31\n",
      "input another number: 541\n",
      "The sum of 31 and 541 is 572\n"
     ]
    }
   ],
   "source": [
    "# sum two numbers\n",
    "w = int(input('input a number: '))\n",
    "z = int(input('input another number: '))\n",
    "sum = w + z\n",
    "print(f\"The sum of {w} and {z} is {sum}\")"
   ]
  },
  {
   "cell_type": "code",
   "execution_count": 112,
   "id": "c1c1cc3c",
   "metadata": {},
   "outputs": [
    {
     "data": {
      "text/latex": [
       "$\\displaystyle \\frac{9}{3} = 3$"
      ],
      "text/plain": [
       "<IPython.core.display.Math object>"
      ]
     },
     "metadata": {},
     "output_type": "display_data"
    }
   ],
   "source": [
    "display(Math('\\\\frac{9}{3} = %g' %int(9/3)))"
   ]
  },
  {
   "cell_type": "code",
   "execution_count": 114,
   "id": "58a7bd5e",
   "metadata": {},
   "outputs": [
    {
     "name": "stdout",
     "output_type": "stream",
     "text": [
      "1\n",
      "2\n",
      "3\n",
      "4\n",
      "5\n",
      "6\n",
      "7\n",
      "8\n",
      "9\n",
      "10\n"
     ]
    }
   ],
   "source": [
    "t = 1 \n",
    "while t<11:\n",
    "    print(t)\n",
    "    t +=1"
   ]
  },
  {
   "cell_type": "code",
   "execution_count": null,
   "id": "9adfb2f7",
   "metadata": {},
   "outputs": [],
   "source": []
  }
 ],
 "metadata": {
  "kernelspec": {
   "display_name": "Python 3",
   "language": "python",
   "name": "python3"
  },
  "language_info": {
   "codemirror_mode": {
    "name": "ipython",
    "version": 3
   },
   "file_extension": ".py",
   "mimetype": "text/x-python",
   "name": "python",
   "nbconvert_exporter": "python",
   "pygments_lexer": "ipython3",
   "version": "3.8.8"
  }
 },
 "nbformat": 4,
 "nbformat_minor": 5
}
